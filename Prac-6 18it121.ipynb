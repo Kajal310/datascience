{
 "cells": [
  {
   "cell_type": "code",
   "execution_count": 2,
   "metadata": {},
   "outputs": [
    {
     "name": "stdout",
     "output_type": "stream",
     "text": [
      "Requirement already satisfied: orange3 in c:\\users\\kajal\\anaconda\\lib\\site-packages (3.26.0)\n",
      "Requirement already satisfied: numpy>=1.16.0 in c:\\users\\kajal\\anaconda\\lib\\site-packages (from orange3) (1.19.2)\n",
      "Requirement already satisfied: AnyQt>=0.0.8 in c:\\users\\kajal\\anaconda\\lib\\site-packages (from orange3) (0.0.13)\n",
      "Requirement already satisfied: pyyaml in c:\\users\\kajal\\anaconda\\lib\\site-packages (from orange3) (5.3.1)\n",
      "Requirement already satisfied: chardet>=3.0.2 in c:\\users\\kajal\\anaconda\\lib\\site-packages (from orange3) (3.0.4)\n",
      "Requirement already satisfied: httpx~=0.12 in c:\\users\\kajal\\anaconda\\lib\\site-packages (from orange3) (0.19.0)\n",
      "Requirement already satisfied: orange-canvas-core<0.2a,>=0.1.15 in c:\\users\\kajal\\anaconda\\lib\\site-packages (from orange3) (0.1.21)\n",
      "Requirement already satisfied: orange-widget-base>=4.6.0 in c:\\users\\kajal\\anaconda\\lib\\site-packages (from orange3) (4.13.1)\n",
      "Requirement already satisfied: openpyxl in c:\\users\\kajal\\anaconda\\lib\\site-packages (from orange3) (3.0.5)\n",
      "Requirement already satisfied: requests in c:\\users\\kajal\\anaconda\\lib\\site-packages (from orange3) (2.24.0)\n",
      "Requirement already satisfied: setuptools>=36.3 in c:\\users\\kajal\\anaconda\\lib\\site-packages (from orange3) (50.3.1.post20201107)\n",
      "Requirement already satisfied: scipy>=0.16.1 in c:\\users\\kajal\\anaconda\\lib\\site-packages (from orange3) (1.5.2)\n",
      "Requirement already satisfied: keyring in c:\\users\\kajal\\anaconda\\lib\\site-packages (from orange3) (21.4.0)\n",
      "Requirement already satisfied: openTSNE>=0.3.11 in c:\\users\\kajal\\anaconda\\lib\\site-packages (from orange3) (0.6.0)\n",
      "Requirement already satisfied: bottleneck>=1.0.0 in c:\\users\\kajal\\anaconda\\lib\\site-packages (from orange3) (1.3.2)\n",
      "Requirement already satisfied: scikit-learn!=0.23.0,>=0.22.0 in c:\\users\\kajal\\anaconda\\lib\\site-packages (from orange3) (0.23.2)\n",
      "Requirement already satisfied: docutils in c:\\users\\kajal\\anaconda\\lib\\site-packages (from orange3) (0.16)\n",
      "Requirement already satisfied: xlrd>=0.9.2 in c:\\users\\kajal\\anaconda\\lib\\site-packages (from orange3) (1.2.0)\n",
      "Requirement already satisfied: matplotlib>=2.0.0 in c:\\users\\kajal\\anaconda\\lib\\site-packages (from orange3) (3.3.2)\n",
      "Requirement already satisfied: baycomp>=1.0.2 in c:\\users\\kajal\\anaconda\\lib\\site-packages (from orange3) (1.0.2)\n",
      "Requirement already satisfied: joblib>=0.9.4 in c:\\users\\kajal\\anaconda\\lib\\site-packages (from orange3) (0.17.0)\n",
      "Requirement already satisfied: pandas in c:\\users\\kajal\\anaconda\\lib\\site-packages (from orange3) (1.1.3)\n",
      "Requirement already satisfied: xlsxwriter in c:\\users\\kajal\\anaconda\\lib\\site-packages (from orange3) (1.3.7)\n",
      "Requirement already satisfied: networkx in c:\\users\\kajal\\anaconda\\lib\\site-packages (from orange3) (2.5)\n",
      "Requirement already satisfied: python-louvain>=0.13 in c:\\users\\kajal\\anaconda\\lib\\site-packages (from orange3) (0.15)\n",
      "Requirement already satisfied: keyrings.alt in c:\\users\\kajal\\anaconda\\lib\\site-packages (from orange3) (4.0.2)\n",
      "Requirement already satisfied: pyqtgraph>=0.10.0 in c:\\users\\kajal\\anaconda\\lib\\site-packages (from orange3) (0.11.0)\n",
      "Requirement already satisfied: pip>=9.0 in c:\\users\\kajal\\anaconda\\lib\\site-packages (from orange3) (20.2.4)\n",
      "Requirement already satisfied: serverfiles in c:\\users\\kajal\\anaconda\\lib\\site-packages (from orange3) (0.3.0)\n",
      "Requirement already satisfied: rfc3986[idna2008]<2,>=1.3 in c:\\users\\kajal\\anaconda\\lib\\site-packages (from httpx~=0.12->orange3) (1.5.0)\n",
      "Requirement already satisfied: certifi in c:\\users\\kajal\\anaconda\\lib\\site-packages (from httpx~=0.12->orange3) (2020.6.20)\n",
      "Requirement already satisfied: sniffio in c:\\users\\kajal\\anaconda\\lib\\site-packages (from httpx~=0.12->orange3) (1.2.0)\n",
      "Requirement already satisfied: httpcore<0.14.0,>=0.13.3 in c:\\users\\kajal\\anaconda\\lib\\site-packages (from httpx~=0.12->orange3) (0.13.6)\n",
      "Requirement already satisfied: charset-normalizer in c:\\users\\kajal\\anaconda\\lib\\site-packages (from httpx~=0.12->orange3) (2.0.4)\n",
      "Requirement already satisfied: dictdiffer in c:\\users\\kajal\\anaconda\\lib\\site-packages (from orange-canvas-core<0.2a,>=0.1.15->orange3) (0.9.0)\n",
      "Requirement already satisfied: cachecontrol[filecache] in c:\\users\\kajal\\anaconda\\lib\\site-packages (from orange-canvas-core<0.2a,>=0.1.15->orange3) (0.12.6)\n",
      "Requirement already satisfied: qasync in c:\\users\\kajal\\anaconda\\lib\\site-packages (from orange-canvas-core<0.2a,>=0.1.15->orange3) (0.18.1)\n",
      "Requirement already satisfied: commonmark>=0.8.1 in c:\\users\\kajal\\anaconda\\lib\\site-packages (from orange-canvas-core<0.2a,>=0.1.15->orange3) (0.9.1)\n",
      "Requirement already satisfied: typing-extensions>=3.7.4.3 in c:\\users\\kajal\\anaconda\\lib\\site-packages (from orange-widget-base>=4.6.0->orange3) (3.7.4.3)\n",
      "Requirement already satisfied: et-xmlfile in c:\\users\\kajal\\anaconda\\lib\\site-packages (from openpyxl->orange3) (1.0.1)\n",
      "Requirement already satisfied: jdcal in c:\\users\\kajal\\anaconda\\lib\\site-packages (from openpyxl->orange3) (1.4.1)\n",
      "Requirement already satisfied: urllib3!=1.25.0,!=1.25.1,<1.26,>=1.21.1 in c:\\users\\kajal\\anaconda\\lib\\site-packages (from requests->orange3) (1.25.11)\n",
      "Requirement already satisfied: idna<3,>=2.5 in c:\\users\\kajal\\anaconda\\lib\\site-packages (from requests->orange3) (2.10)\n",
      "Requirement already satisfied: pywin32-ctypes!=0.1.0,!=0.1.1; sys_platform == \"win32\" in c:\\users\\kajal\\anaconda\\lib\\site-packages (from keyring->orange3) (0.2.0)\n",
      "Requirement already satisfied: threadpoolctl>=2.0.0 in c:\\users\\kajal\\anaconda\\lib\\site-packages (from scikit-learn!=0.23.0,>=0.22.0->orange3) (2.1.0)\n",
      "Requirement already satisfied: pyparsing!=2.0.4,!=2.1.2,!=2.1.6,>=2.0.3 in c:\\users\\kajal\\anaconda\\lib\\site-packages (from matplotlib>=2.0.0->orange3) (2.4.7)\n",
      "Requirement already satisfied: kiwisolver>=1.0.1 in c:\\users\\kajal\\anaconda\\lib\\site-packages (from matplotlib>=2.0.0->orange3) (1.3.0)\n",
      "Requirement already satisfied: pillow>=6.2.0 in c:\\users\\kajal\\anaconda\\lib\\site-packages (from matplotlib>=2.0.0->orange3) (8.0.1)\n",
      "Requirement already satisfied: python-dateutil>=2.1 in c:\\users\\kajal\\anaconda\\lib\\site-packages (from matplotlib>=2.0.0->orange3) (2.8.1)\n",
      "Requirement already satisfied: cycler>=0.10 in c:\\users\\kajal\\anaconda\\lib\\site-packages (from matplotlib>=2.0.0->orange3) (0.10.0)\n",
      "Requirement already satisfied: pytz>=2017.2 in c:\\users\\kajal\\anaconda\\lib\\site-packages (from pandas->orange3) (2020.1)\n",
      "Requirement already satisfied: decorator>=4.3.0 in c:\\users\\kajal\\anaconda\\lib\\site-packages (from networkx->orange3) (4.4.2)\n",
      "Requirement already satisfied: anyio==3.* in c:\\users\\kajal\\anaconda\\lib\\site-packages (from httpcore<0.14.0,>=0.13.3->httpx~=0.12->orange3) (3.3.0)\n",
      "Requirement already satisfied: h11<0.13,>=0.11 in c:\\users\\kajal\\anaconda\\lib\\site-packages (from httpcore<0.14.0,>=0.13.3->httpx~=0.12->orange3) (0.12.0)\n",
      "Requirement already satisfied: msgpack>=0.5.2 in c:\\users\\kajal\\anaconda\\lib\\site-packages (from cachecontrol[filecache]->orange-canvas-core<0.2a,>=0.1.15->orange3) (1.0.0)\n",
      "Requirement already satisfied: lockfile>=0.9; extra == \"filecache\" in c:\\users\\kajal\\anaconda\\lib\\site-packages (from cachecontrol[filecache]->orange-canvas-core<0.2a,>=0.1.15->orange3) (0.12.2)\n",
      "Requirement already satisfied: six>=1.5 in c:\\users\\kajal\\anaconda\\lib\\site-packages (from python-dateutil>=2.1->matplotlib>=2.0.0->orange3) (1.15.0)\n",
      "Note: you may need to restart the kernel to use updated packages.\n"
     ]
    }
   ],
   "source": [
    "pip install orange3"
   ]
  },
  {
   "cell_type": "code",
   "execution_count": 3,
   "metadata": {},
   "outputs": [],
   "source": [
    "import Orange"
   ]
  },
  {
   "cell_type": "code",
   "execution_count": 4,
   "metadata": {},
   "outputs": [
    {
     "name": "stdout",
     "output_type": "stream",
     "text": [
      "Original dataset:\n",
      "[?, -0.023, 0.057, 0.007, 0.018, -0.057, 0.009, -0.034, -0.016, -0.046, 0.060, -0.007, 0.007, -0.092, 0.057, -0.009, -0.009, -0.067, -0.051, -0.092, -0.023, -0.057, -0.041, -0.097, -0.083, -0.053, ?, -0.046, -0.138, -0.002, -0.039, -0.083, -0.057, -0.067, -0.074, -0.099, -0.193, -0.108, -0.069, -0.108, -0.099, -0.170, -0.138, 0.083, -0.099, -0.051, -0.154, -0.099, -0.014, 0.179, 0.257, 0.232, 0.209, -0.182, 0.016, -0.028, 0.133, 0.297, 0.076, 0.018, 0.124, 0.179, 0.016, 0.368, -0.083, -0.057, -0.051, -0.193, 0.131, 0.099, 0.274, 0.117, -0.041, -0.032, -0.051, -0.021, -0.023, -0.083, -0.032 | Proteas] {YGR270W}\n",
      "[-0.031, -0.031, -0.060, 0.037, -0.071, -0.018, -0.026, -0.052, 0.018, 0.052, 0.055, -0.026, -0.037, -0.084, -0.071, -0.016, -0.134, -0.058, 0.087, 0.068, -0.134, -0.110, -0.157, -0.089, -0.037, 0.055, 0.055, 0.052, -0.024, 0.073, 0.076, 0.060, -0.089, -0.128, -0.152, -0.039, 0.016, 0.026, 0.026, 0.010, -0.008, 0.042, 0.018, -0.123, 0.089, 0.026, 0.063, -0.031, 0.026, 0.199, 0.149, 0.021, -0.024, -0.194, -0.079, -0.443, 0.184, 0.490, -0.052, 0.073, 0.102, 0.128, -0.010, -0.045, -0.076, -0.008, 0.113, 0.016, -0.066, -0.212, -0.176, -0.176, 0.031, -0.024, 0.018, 0.003, -0.008, 0.021, -0.113 | Proteas] {YIL075C}\n",
      "[-0.013, ?, 0.067, -0.025, 0.017, 0.008, -0.042, 0.013, 0.111, 0.015, 0.140, 0.065, -0.019, -0.031, -0.025, 0.084, -0.038, 0.013, 0.088, 0.050, -0.117, 0.025, -0.084, -0.057, -0.008, 0.078, -0.002, 0.006, -0.038, 0.063, 0.061, 0.063, ?, 0.140, 0.017, -0.159, -0.130, -0.121, -0.025, 0.189, -0.029, -0.256, -0.061, 0.038, -0.145, -0.029, -0.094, 0.038, 0.209, 0.279, 0.218, 0.094, 0.075, 0.044, -0.052, -0.170, 0.276, 0.450, -0.061, -0.008, 0.044, 0.040, -0.088, -0.061, 0.113, 0.149, 0.124, 0.080, -0.063, -0.052, 0.161, 0.034, 0.096, 0.048, 0.065, -0.013, -0.075, 0.216, 0.038 | Proteas] {YDL007W}\n",
      "Discretized dataset:\n",
      "[?, -0.04150 - -0.00550, ≥ 0, -0.02950 - 0.0075, ≥ -0.00650, < -0.04050, -0.020 - 0.0115, < -0.027, < -0.00550, < -0.02150, ≥ 0.032, ≥ -0.00950, -0.00950 - 0.0185, < -0.05450, ≥ 0.04, -0.02550 - 0.0135, -0.01350 - 0.0275, < -0.031, -0.079 - 0.0025, < -0.02550, < -0.01350, < 0.0025, < 0.0165, < 0.011, < 0, < 0.0305, ?, < 0.0065, < -0.00250, < 0.0035, < -0.024, < -0.02350, -0.07050 - -0.03150, < -0.046, < -0.01750, < -0.00150, < -0.01850, < 0.0045, < 0.0145, < 0.0275, < -0.002, < -0.03050, < 0.0095, ≥ 0.0645, < -0.02450, < -0.027, < -0.020, < -0.028, ≥ -0.08450, ≥ -0.09650, ≥ -0.142, ≥ -0.11150, ≥ -0.06850, < 0, ≥ -0.02450, -0.07150 - 0.1295, ≥ -0.151, ≥ -0.19950, ≥ -0.01450, ≥ -0.05450, ≥ -0.073, ≥ -0.15150, ≥ -0.08650, ≥ -0.08450, < 0.0165, < -0.02550, -0.08050 - -0.04250, < -0.14550, ≥ -0.00450, ≥ -0.00550, ≥ -0.059, ≥ -0.129, < 0.0115, < -0.01150, < 0.0135, -0.03750 - 0.0045, -0.04250 - -0.006, -0.17850 - -0.01050, ≥ -0.17150 | Proteas] {YGR270W}\n",
      "[< -0.01550, -0.04150 - -0.00550, < -0.029, ≥ 0.0075, < -0.03950, -0.04050 - -0.00150, < -0.020, < -0.027, -0.00550 - 0.0265, ≥ 0.0095, ≥ 0.032, -0.03450 - -0.00950, < -0.00950, < -0.05450, < -0.005, -0.02550 - 0.0135, < -0.01350, < -0.031, ≥ 0.0025, ≥ 0.02, < -0.01350, < 0.0025, < 0.0165, < 0.011, < 0, 0.0305 - 0.073, ≥ 0.0465, ≥ 0.0515, < -0.00250, ≥ 0.037, ≥ 0.0125, ≥ 0.0125, < -0.07050, < -0.046, < -0.01750, < -0.00150, -0.01850 - 0.0515, 0.0045 - 0.0515, 0.0145 - 0.0455, < 0.0275, < -0.002, ≥ 0.0125, 0.0095 - 0.0465, < 0.0095, ≥ 0.0505, -0.027 - 0.04, -0.020 - 0.076, < -0.028, ≥ -0.08450, ≥ -0.09650, ≥ -0.142, ≥ -0.11150, ≥ -0.06850, < 0, < -0.05950, < -0.07150, ≥ -0.151, ≥ -0.19950, < -0.045, ≥ -0.05450, ≥ -0.073, ≥ -0.15150, ≥ -0.08650, ≥ -0.08450, < 0.0165, -0.02550 - 0.0275, ≥ -0.04250, ≥ -0.09850, < -0.04950, < -0.04350, < -0.13150, -0.21950 - -0.129, ≥ 0.0285, < -0.01150, 0.0135 - 0.0475, -0.03750 - 0.0045, -0.04250 - -0.006, ≥ -0.01050, ≥ -0.17150 | Proteas] {YIL075C}\n",
      "[-0.01550 - 0.0155, ?, ≥ 0, -0.02950 - 0.0075, ≥ -0.00650, ≥ -0.00150, < -0.020, -0.027 - 0.0145, ≥ 0.0265, ≥ 0.0095, ≥ 0.032, ≥ -0.00950, < -0.00950, -0.05450 - -0.019, < -0.005, ≥ 0.0135, < -0.01350, ≥ 0.004, ≥ 0.0025, ≥ 0.02, < -0.01350, 0.0025 - 0.063, < 0.0165, < 0.011, < 0, ≥ 0.073, < 0.0135, < 0.0065, < -0.00250, ≥ 0.037, ≥ 0.0125, ≥ 0.0125, ?, ≥ 0.0055, -0.01750 - 0.0225, < -0.00150, < -0.01850, < 0.0045, < 0.0145, ≥ 0.0625, < -0.002, < -0.03050, < 0.0095, 0.0095 - 0.0645, < -0.02450, < -0.027, < -0.020, ≥ 0.0025, ≥ -0.08450, ≥ -0.09650, ≥ -0.142, ≥ -0.11150, ≥ -0.06850, 0 - 0.0455, -0.05950 - -0.02450, < -0.07150, ≥ -0.151, ≥ -0.19950, < -0.045, ≥ -0.05450, ≥ -0.073, ≥ -0.15150, -0.13350 - -0.08650, ≥ -0.08450, ≥ 0.0555, ≥ 0.0275, ≥ -0.04250, ≥ -0.09850, < -0.04950, < -0.04350, ≥ -0.059, ≥ -0.129, ≥ 0.0285, ≥ 0.0175, ≥ 0.0475, -0.03750 - 0.0045, < -0.04250, ≥ -0.01050, ≥ -0.17150 | Proteas] {YDL007W}\n"
     ]
    }
   ],
   "source": [
    "##Discretization\n",
    "brown = Orange.data.Table(\"brown-selected.tab\")\n",
    "disc = Orange.preprocess.Discretize()\n",
    "disc.method = Orange.preprocess.discretize.EqualFreq(n=3)\n",
    "d_brown = disc(brown)\n",
    "\n",
    "print(\"Original dataset:\")\n",
    "for e in brown[:3]:\n",
    "    print(e)\n",
    "\n",
    "print(\"Discretized dataset:\")\n",
    "for e in d_brown[:3]:\n",
    "    print(e)"
   ]
  },
  {
   "cell_type": "code",
   "execution_count": 5,
   "metadata": {},
   "outputs": [
    {
     "name": "stdout",
     "output_type": "stream",
     "text": [
      "Before Continuization:\n",
      " [status, age, sex | survived]\n",
      "After Continuization:\n",
      " [status=crew, status=first, status=second, status=third, age=adult, age=child, sex=female, sex=male | survived]\n",
      "10th row data before:  [first, adult, male | yes]\n",
      "10th row data after:  [0, 1, 0, 0, 1, 0, 0, 1 | yes]\n"
     ]
    }
   ],
   "source": [
    "\n",
    "#Continuization\n",
    "titanic = Orange.data.Table(\"titanic\")\n",
    "continuizer = Orange.preprocess.Continuize()\n",
    "titanic1 = continuizer(titanic)\n",
    "\n",
    "print(\"Before Continuization:\\n\",titanic.domain)\n",
    "print(\"After Continuization:\\n\",titanic1.domain)\n",
    "\n",
    "\n",
    "#Look at specific data of row 10 in the table before and after continuization\n",
    "print(\"10th row data before: \",titanic[10])\n",
    "print(\"10th row data after: \",titanic1[10])"
   ]
  },
  {
   "cell_type": "code",
   "execution_count": 6,
   "metadata": {},
   "outputs": [
    {
     "name": "stdout",
     "output_type": "stream",
     "text": [
      "Before Normalization:  [-0.013, ?, 0.067, -0.025, 0.017, 0.008, -0.042, 0.013, 0.111, 0.015, 0.140, 0.065, -0.019, -0.031, -0.025, 0.084, -0.038, 0.013, 0.088, 0.050, -0.117, 0.025, -0.084, -0.057, -0.008, 0.078, -0.002, 0.006, -0.038, 0.063, 0.061, 0.063, ?, 0.140, 0.017, -0.159, -0.130, -0.121, -0.025, 0.189, -0.029, -0.256, -0.061, 0.038, -0.145, -0.029, -0.094, 0.038, 0.209, 0.279, 0.218, 0.094, 0.075, 0.044, -0.052, -0.170, 0.276, 0.450, -0.061, -0.008, 0.044, 0.040, -0.088, -0.061, 0.113, 0.149, 0.124, 0.080, -0.063, -0.052, 0.161, 0.034, 0.096, 0.048, 0.065, -0.013, -0.075, 0.216, 0.038 | Proteas] {YDL007W}\n",
      "After noramlization:  [0.410615, ?, 0.714789, 0.466887, 0.786232, 0.667897, 0.336788, 0.602996, 0.920502, 0.611888, 1, 0.961538, 0.402715, 0.542763, 0.342105, 0.814545, 0.442748, 0.393103, 0.583333, 0.75853, 0.471816, 0.609694, 0.292135, 0.415459, 0.438172, 0.661765, 0.78592, 0.550173, 0.477848, 0.767974, 0.639405, 0.720833, ?, 1, 0.639405, 0, 0.280778, 0.0569948, 0.61129, 0.684332, 0.305085, 0.0709382, 0.305263, 0.48513, 0.183716, 0.241935, 0.436202, 0.729452, 0.947977, 0.965024, 0.876033, 0.779553, 0.788644, 0.52193, 0.489552, 0.37062, 0.905806, 0.891791, 0.501502, 0.473907, 0.743222, 0.733205, 0.369193, 0.418699, 0.890511, 0.803181, 0.88785, 0.892562, 0.271523, 0.403023, 0.787832, 0.697609, 0.919811, 0.716049, 0.707317, 0.497175, 0.260204, 0.658031, 0.508021 | Proteas] {YDL007W}\n"
     ]
    }
   ],
   "source": [
    "\n",
    "#Normalization\n",
    "from Orange.preprocess import Normalize\n",
    "normalizer = Normalize(norm_type=Normalize.NormalizeBySpan)\n",
    "normalized_data = normalizer(brown)\n",
    "print(\"Before Normalization: \",brown[2])\n",
    "print(\"After noramlization: \",normalized_data[2])"
   ]
  },
  {
   "cell_type": "code",
   "execution_count": 7,
   "metadata": {},
   "outputs": [
    {
     "name": "stdout",
     "output_type": "stream",
     "text": [
      "Before Randomization:  [-0.013, ?, 0.067, -0.025, 0.017, 0.008, -0.042, 0.013, 0.111, 0.015, 0.140, 0.065, -0.019, -0.031, -0.025, 0.084, -0.038, 0.013, 0.088, 0.050, -0.117, 0.025, -0.084, -0.057, -0.008, 0.078, -0.002, 0.006, -0.038, 0.063, 0.061, 0.063, ?, 0.140, 0.017, -0.159, -0.130, -0.121, -0.025, 0.189, -0.029, -0.256, -0.061, 0.038, -0.145, -0.029, -0.094, 0.038, 0.209, 0.279, 0.218, 0.094, 0.075, 0.044, -0.052, -0.170, 0.276, 0.450, -0.061, -0.008, 0.044, 0.040, -0.088, -0.061, 0.113, 0.149, 0.124, 0.080, -0.063, -0.052, 0.161, 0.034, 0.096, 0.048, 0.065, -0.013, -0.075, 0.216, 0.038 | Proteas] {YDL007W}\n",
      "After Randomization:  [-0.013, ?, 0.067, -0.025, 0.017, 0.008, -0.042, 0.013, 0.111, 0.015, 0.140, 0.065, -0.019, -0.031, -0.025, 0.084, -0.038, 0.013, 0.088, 0.050, -0.117, 0.025, -0.084, -0.057, -0.008, 0.078, -0.002, 0.006, -0.038, 0.063, 0.061, 0.063, ?, 0.140, 0.017, -0.159, -0.130, -0.121, -0.025, 0.189, -0.029, -0.256, -0.061, 0.038, -0.145, -0.029, -0.094, 0.038, 0.209, 0.279, 0.218, 0.094, 0.075, 0.044, -0.052, -0.170, 0.276, 0.450, -0.061, -0.008, 0.044, 0.040, -0.088, -0.061, 0.113, 0.149, 0.124, 0.080, -0.063, -0.052, 0.161, 0.034, 0.096, 0.048, 0.065, -0.013, -0.075, 0.216, 0.038 | Ribo] {YDL007W}\n"
     ]
    }
   ],
   "source": [
    "#Randomization\n",
    "from Orange.preprocess import Randomize\n",
    "randomizer = Randomize(Randomize.RandomizeClasses)\n",
    "randomized_data = randomizer(brown)\n",
    "print(\"Before Randomization: \",brown[2])\n",
    "print(\"After Randomization: \",randomized_data[2])"
   ]
  },
  {
   "cell_type": "code",
   "execution_count": null,
   "metadata": {},
   "outputs": [],
   "source": []
  }
 ],
 "metadata": {
  "kernelspec": {
   "display_name": "Python 3",
   "language": "python",
   "name": "python3"
  },
  "language_info": {
   "codemirror_mode": {
    "name": "ipython",
    "version": 3
   },
   "file_extension": ".py",
   "mimetype": "text/x-python",
   "name": "python",
   "nbconvert_exporter": "python",
   "pygments_lexer": "ipython3",
   "version": "3.8.5"
  }
 },
 "nbformat": 4,
 "nbformat_minor": 4
}
